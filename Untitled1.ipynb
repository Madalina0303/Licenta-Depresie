{
  "nbformat": 4,
  "nbformat_minor": 0,
  "metadata": {
    "colab": {
      "name": "Untitled1.ipynb",
      "provenance": [],
      "collapsed_sections": [],
      "mount_file_id": "1BRwuZ6ATXvB_2TEv_1S-D9pE0BXvuTp6",
      "authorship_tag": "ABX9TyMZB1+ED4IyL8NENZ0E3sOg",
      "include_colab_link": true
    },
    "kernelspec": {
      "name": "python3",
      "display_name": "Python 3"
    },
    "language_info": {
      "name": "python"
    }
  },
  "cells": [
    {
      "cell_type": "markdown",
      "metadata": {
        "id": "view-in-github",
        "colab_type": "text"
      },
      "source": [
        "<a href=\"https://colab.research.google.com/github/Madalina0303/Licenta-Depresie/blob/main/Untitled1.ipynb\" target=\"_parent\"><img src=\"https://colab.research.google.com/assets/colab-badge.svg\" alt=\"Open In Colab\"/></a>"
      ]
    },
    {
      "cell_type": "code",
      "source": [
        "pip install transformers"
      ],
      "metadata": {
        "id": "G52_8HbKteRX"
      },
      "execution_count": null,
      "outputs": []
    },
    {
      "cell_type": "code",
      "execution_count": null,
      "metadata": {
        "id": "WLzU6-MbsUck"
      },
      "outputs": [],
      "source": [
        "from xml.dom.minidom import parse\n",
        "import os\n",
        "from transformers import BertTokenizer\n"
      ]
    },
    {
      "cell_type": "code",
      "source": [
        "tokenizer = BertTokenizer.from_pretrained('bert-base-cased')\n",
        "\n",
        "example_text = 'I will watch Memento tonight'\n",
        "bert_input = tokenizer(example_text,padding='max_length', max_length = 10,\n",
        "                       truncation=True, return_tensors=\"pt\")\n",
        "\n",
        "\n",
        "print(bert_input['input_ids'])\n",
        "print(bert_input['token_type_ids'])\n",
        "print(bert_input['attention_mask'])"
      ],
      "metadata": {
        "id": "cudJLonFtfUg"
      },
      "execution_count": null,
      "outputs": []
    },
    {
      "cell_type": "code",
      "source": [
        "!pip install -q sentence_transformers"
      ],
      "metadata": {
        "id": "ISWEQ_9ZtcMX"
      },
      "execution_count": null,
      "outputs": []
    },
    {
      "cell_type": "code",
      "source": [
        "from sentence_transformers import SentenceTransformer\n",
        "from sklearn.metrics.pairwise import cosine_similarity\n",
        "from pprint import pprint\n"
      ],
      "metadata": {
        "id": "l3q1p831sbA1"
      },
      "execution_count": null,
      "outputs": []
    },
    {
      "cell_type": "code",
      "source": [
        "model = SentenceTransformer('all-mpnet-base-v2')"
      ],
      "metadata": {
        "id": "rdstcfA-scBS"
      },
      "execution_count": null,
      "outputs": []
    },
    {
      "cell_type": "code",
      "source": [
        ""
      ],
      "metadata": {
        "id": "vuvqERUuqO37"
      },
      "execution_count": null,
      "outputs": []
    },
    {
      "cell_type": "code",
      "source": [
        "import re\n",
        "\n",
        "with open('drive/MyDrive/chestionar.txt', 'r') as f:\n",
        "  data = f.read()\n",
        "  categories = re.split(\"[0-9]+\\.\",data)\n",
        "\n",
        "categories.pop(0)\n",
        "# print(len(categories))\n",
        "for index,elem in enumerate(categories):\n",
        "  categories[index] = elem.replace(\"\\n\",\" \").strip()\n",
        "  # print(categories[index])\n",
        "\n",
        "categories_embedding = model.encode(categories)\n"
      ],
      "metadata": {
        "id": "0_HlvLnTscV_"
      },
      "execution_count": null,
      "outputs": []
    },
    {
      "cell_type": "code",
      "source": [
        "\n",
        "from xml.dom.minidom import parse\n",
        "import os"
      ],
      "metadata": {
        "id": "If_hgzo9zRG1"
      },
      "execution_count": null,
      "outputs": []
    },
    {
      "cell_type": "code",
      "source": [
        "def parse_file(filename):\n",
        "    doc = parse(filename, )\n",
        "    titles = doc.getElementsByTagName(\"TITLE\")\n",
        "    posts = doc.getElementsByTagName(\"TEXT\")\n",
        "    messages = []\n",
        "    for index, title in enumerate(titles):\n",
        "        message = title.firstChild.nodeValue + posts[index].firstChild.nodeValue\n",
        "        messages.append(message.strip())\n",
        "    return messages\n",
        "\n",
        "def get_data_post(dir_name):\n",
        "    users_posts = dict()\n",
        "    for root, dir, files in os.walk(dir_name):\n",
        "        for filename in files:\n",
        "            if \".xml\" in filename:\n",
        "                nr = re.findall(\"[0-9]+\", filename)\n",
        "                users_posts[nr[0]] = parse_file(root+\"/\"+filename)\n",
        "\n",
        "    return users_posts"
      ],
      "metadata": {
        "id": "bKF6pFPqBj-d"
      },
      "execution_count": null,
      "outputs": []
    },
    {
      "cell_type": "code",
      "source": [
        " posts = get_data_post(\"drive/MyDrive/data\")\n",
        " print(posts)"
      ],
      "metadata": {
        "id": "r7tp1SKzGr8T"
      },
      "execution_count": null,
      "outputs": []
    },
    {
      "cell_type": "code",
      "source": [
        "posts_embedding= [ posts[str(i)] for i in range(1,81)]"
      ],
      "metadata": {
        "id": "r_uHalCee1pX"
      },
      "execution_count": null,
      "outputs": []
    },
    {
      "cell_type": "code",
      "source": [
        "print((posts_embedding[0]))"
      ],
      "metadata": {
        "id": "sSg10MqmtoGy"
      },
      "execution_count": null,
      "outputs": []
    },
    {
      "cell_type": "code",
      "source": [
        "import re\n",
        "def get_categories(file):\n",
        "  with open(file) as f:\n",
        "    data = f.read()\n",
        "    questions = re.findall(\"[0-9]+\\.\\s*[a-zA-Z\\s]+\\s*\\n\", data)\n",
        "  \n",
        "  for i, elem in enumerate(questions):\n",
        "    questions[i] = elem.split(\"\\n\")[0]\n",
        "    questions[i] = re.split(\"[0-9]+[\\.\\s]+\",questions[i])[1]\n",
        "    \n",
        "  return questions\n",
        "\n",
        "print(get_categories(\"drive/MyDrive/chestionar.txt\"))\n",
        "\n"
      ],
      "metadata": {
        "id": "_6RUzvYstkuh",
        "colab": {
          "base_uri": "https://localhost:8080/"
        },
        "outputId": "84a76088-deac-406e-c696-9b5f2dd663cb"
      },
      "execution_count": null,
      "outputs": [
        {
          "output_type": "stream",
          "name": "stdout",
          "text": [
            "['Sadness', 'Pessimism', 'Past Failure', 'Loss of Pleasure', 'Guilty Feelings', 'Punishment Feelings', 'Suicidal Thoughts or Wishes', 'Crying', 'Agitation', 'Loss of Interest', 'Indecisiveness', 'Worthlessness', 'Loss of Energy', 'Changes in Sleeping Pattern', 'Irritability', 'Changes in Appetite', 'Concentration Difficulty', 'Tiredness or Fatigue', 'Loss of Interest in Sex']\n"
          ]
        }
      ]
    },
    {
      "cell_type": "code",
      "source": [
        "categories_list = get_categories(\"drive/MyDrive/chestionar.txt\")\n",
        "data_dict = dict()\n",
        "for i in categories_list:\n",
        "  data_dict[i] = dict()\n",
        "  for j in range(1,81):\n",
        "    data_dict[i][str(j)] = []"
      ],
      "metadata": {
        "id": "Y1HVuPa5Iqm6"
      },
      "execution_count": null,
      "outputs": []
    },
    {
      "cell_type": "code",
      "source": [
        "import json\n",
        "def dump_to_json(file_name,data_dict_param):\n",
        "  with open(file_name, \"w\") as json_file:\n",
        "    json.dump(data_dict_param, json_file)\n",
        "\n"
      ],
      "metadata": {
        "id": "1lYTv6eyFVwg"
      },
      "execution_count": null,
      "outputs": []
    },
    {
      "cell_type": "code",
      "source": [
        "dump_to_json(\"data.json\", data_dict)"
      ],
      "metadata": {
        "id": "k7nKoM82rHAk"
      },
      "execution_count": null,
      "outputs": []
    },
    {
      "cell_type": "code",
      "source": [
        "posts = dict()\n",
        "for i in range(3):\n",
        "  posts[str(i)] = []\n",
        "  posts[str(i)].append(\"3\");\n",
        "dump_to_json(\"ok.json\",posts)"
      ],
      "metadata": {
        "id": "Ib6rlkGs8jOF"
      },
      "execution_count": null,
      "outputs": []
    },
    {
      "cell_type": "code",
      "source": [
        "\n",
        "posts = dict()\n",
        "for i,elem in enumerate(posts_embedding):\n",
        "  posts[str(i)] = []\n",
        "  for elem2 in elem:\n",
        "    posts[str(i)].append((model.encode(elem2)).tolist())\n",
        "    \n",
        "dump_to_json(\"embedded.json\",posts)"
      ],
      "metadata": {
        "id": "xW88hex1fN6X"
      },
      "execution_count": null,
      "outputs": []
    },
    {
      "cell_type": "code",
      "source": [
        "print(posts['1'][0])\n",
        "# new_dict = dict()\n",
        "# for i in range(80):\n",
        "#   new_dict[str[i]]=posts[str(i)].tolist()\n",
        "  "
      ],
      "metadata": {
        "id": "L1BnKPV7dFkx"
      },
      "execution_count": null,
      "outputs": []
    },
    {
      "cell_type": "code",
      "source": [
        "print(categories_list)"
      ],
      "metadata": {
        "id": "QKW-_saJi9XR"
      },
      "execution_count": null,
      "outputs": []
    },
    {
      "cell_type": "code",
      "source": [
        "with open('drive/MyDrive/embedded.json') as json_file:\n",
        "    data = json.load(json_file)\n",
        "    "
      ],
      "metadata": {
        "id": "O-nNYV-NhMi8"
      },
      "execution_count": null,
      "outputs": []
    },
    {
      "cell_type": "code",
      "source": [
        "print(data.keys())"
      ],
      "metadata": {
        "id": "pHw0PPy-UMi_"
      },
      "execution_count": null,
      "outputs": []
    },
    {
      "cell_type": "code",
      "source": [
        "print(data['0'])"
      ],
      "metadata": {
        "id": "ylZ6etMVbaX1"
      },
      "execution_count": null,
      "outputs": []
    },
    {
      "cell_type": "code",
      "source": [
        "import numpy as np\n",
        "from numpy.linalg import norm"
      ],
      "metadata": {
        "id": "z2kVFeV-uiqL"
      },
      "execution_count": null,
      "outputs": []
    },
    {
      "cell_type": "code",
      "source": [
        "aux = \"drive/MyDrive/\"\n",
        "for c, nume in enumerate(categories_list):\n",
        "  complet = aux + nume + \".json\"\n",
        "  complet1 = aux + nume + \"_ind.json\"\n",
        "  new_dict = dict()\n",
        "  new_dict_index = dict()\n",
        "  for i in range(80):\n",
        "    k = str(i)\n",
        "    # print(type(k))\n",
        "    new_dict[k] = []\n",
        "    new_dict_index[k] = []\n",
        "    j = 0\n",
        "    for elem in data[k]:  \n",
        "      cosine_similarity = np.dot(elem, categories_embedding[c])/(norm(elem)*norm(categories_embedding[c]))\n",
        "      if cosine_similarity >= 0.2:\n",
        "        new_dict[k].append(elem)\n",
        "        new_dict_index[k].append(j)\n",
        "      j = j + 1\n",
        "  dump_to_json(complet,new_dict)\n",
        "  dump_to_json(complet1,new_dict_index)\n",
        "\n",
        "\n",
        "\n"
      ],
      "metadata": {
        "id": "Wr4lIcdvPpnz"
      },
      "execution_count": null,
      "outputs": []
    },
    {
      "cell_type": "code",
      "source": [
        "# mutat intr-un folder separat in drive numit licenta \n",
        "import os \n",
        "categories_list = get_categories(\"drive/MyDrive/chestionar.txt\")\n",
        "aux = \"drive/MyDrive/\"\n",
        "new_folder  = \"drive/MyDrive/Licenta/\"\n",
        "for c, nume in enumerate(categories_list):\n",
        "  complet = aux +\"licenta\"+ nume + \".json\"\n",
        "  complet1 = aux + \"licenta\"+nume + \"_ind.json\"\n",
        "  complet_n = new_folder + nume + \".json\"\n",
        "  complet1_n = new_folder + nume + \"_ind.json\"\n",
        "  os.rename(complet,complet_n)\n",
        "  os.rename(complet1, complet1_n)\n",
        "\n"
      ],
      "metadata": {
        "id": "E-Z9wUfuaetO"
      },
      "execution_count": null,
      "outputs": []
    },
    {
      "cell_type": "code",
      "source": [
        "## primii 60 useri pentru antrenare\n",
        "## urmatorii 20 pentru testare \n",
        "## 75% vs 25%\n",
        "import itertools \n",
        "import json"
      ],
      "metadata": {
        "id": "eMiz_YdKsqT_"
      },
      "execution_count": 3,
      "outputs": []
    },
    {
      "cell_type": "code",
      "source": [
        "\n",
        "aux = \"drive/MyDrive/Licenta/\"\n",
        "complet = aux + \"Sadness.json\"\n",
        "x_train = []\n",
        "with open(complet) as json_file:\n",
        "   data = json.load(json_file)\n",
        "   max1 = 0\n",
        "   for vect in data.values():\n",
        "     lg = 0\n",
        "     new_array = []\n",
        "     for i in vect:\n",
        "      #  print(len(i))\n",
        "       new_array = new_array + i\n",
        "     if len(new_array) > max1:\n",
        "        max1 = len(new_array)\n",
        "     x_train.append(new_array)\n",
        "    #  print(len(new_array))\n",
        "\n",
        "# print(\"Maximul este \", max1)\n",
        "for ind,elem in enumerate(x_train):\n",
        "  if len(elem)<max1:\n",
        "    x_train[ind] = elem + [0]*(max1-len(elem))\n",
        "    # print(len(elem))\n",
        "\n",
        "\n",
        "# for c, nume in enumerate(categories_list):\n",
        "#   complet = aux + nume + \".json\"\n"
      ],
      "metadata": {
        "id": "xp16_td8MuF7"
      },
      "execution_count": 4,
      "outputs": []
    },
    {
      "cell_type": "code",
      "source": [
        "# parsam  fisierul cu raspunsurile bune ca sa preluam targeturile \n",
        "response  = \"drive/MyDrive/Licenta/response.txt\"\n",
        "transform_resp = {\"1a\":1, \"1b\":2, \"2a\":3, \"2b\":4, \"3a\":5, \"3b\":6}\n",
        "responses = dict()\n",
        "for j in categories_list:\n",
        "  responses[j]=[]\n",
        "\n",
        "\n",
        "with open(response) as rsp:\n",
        "   data = rsp.readlines()\n",
        "   for line in data:\n",
        "     res = line.split(\" \")[1:]\n",
        "     for ind,j in enumerate(categories_list):\n",
        "      if len(res[ind])>=2:\n",
        "         responses[j].append(transform_resp[res[ind]])\n",
        "      else:\n",
        "       responses[j].append(int(res[ind]))\n",
        "      \n"
      ],
      "metadata": {
        "id": "OY5zlO7rZxiu"
      },
      "execution_count": null,
      "outputs": []
    },
    {
      "cell_type": "code",
      "source": [
        "dump_to_json(\"drive/MyDrive/Licenta/reponses.json\",responses)"
      ],
      "metadata": {
        "id": "R2VaiNPkrO_D"
      },
      "execution_count": null,
      "outputs": []
    },
    {
      "cell_type": "code",
      "source": [
        "import json\n",
        "with open('drive/MyDrive/Licenta/reponses.json') as json_file:\n",
        "    responses = json.load(json_file)"
      ],
      "metadata": {
        "id": "08vkE-xQbvEG"
      },
      "execution_count": 5,
      "outputs": []
    },
    {
      "cell_type": "code",
      "source": [
        "y_train = responses[\"Sadness\"]\n"
      ],
      "metadata": {
        "id": "FEormZ1Jr1l4"
      },
      "execution_count": 17,
      "outputs": []
    },
    {
      "cell_type": "code",
      "source": [
        "import numpy as np\n",
        "# one hot target \n",
        "# momentan avem 4 raspunsuri de la 0 la 3 facem cu I4 la celelalte mai speciale facem cu I8\n",
        "print(y_train)\n",
        "trg = [[1.0,0.0,0.0,0.0],[0.0,1.0,0.0,0.0],[0.0,0.0,1.0,0.0],[0.0,0.0,0.0,1.0]]\n",
        "y_train_target = []\n",
        "for j in y_train:\n",
        "  y_train_target.append(trg[j])\n",
        "# y_1 = np.array(y_train_target)\n",
        "# print(type(y_train_target[0][0]))"
      ],
      "metadata": {
        "colab": {
          "base_uri": "https://localhost:8080/"
        },
        "id": "uxtWtPI8214L",
        "outputId": "2dfc31e2-4b6b-44c5-8e3b-9a082ecc0fb7"
      },
      "execution_count": 24,
      "outputs": [
        {
          "output_type": "stream",
          "name": "stdout",
          "text": [
            "[1, 1, 1, 1, 2, 0, 1, 0, 1, 2, 1, 0, 1, 1, 1, 0, 0, 2, 1, 2, 1, 1, 0, 1, 0, 3, 1, 1, 1, 0, 3, 2, 1, 1, 3, 1, 1, 1, 0, 1, 1, 3, 1, 3, 2, 1, 1, 1, 1, 1, 0, 1, 2, 1, 2, 2, 1, 1, 3, 1, 0, 1, 1, 2, 2, 0, 1, 0, 0, 3, 1, 1, 0, 1, 1, 1, 3, 2, 3, 1]\n",
            "<class 'float'>\n"
          ]
        }
      ]
    },
    {
      "cell_type": "code",
      "source": [
        "# x_train si y_train splituiti ca sa fie doar 60\n",
        "x_test = x_train[60:]\n",
        "x_train = x_train[0:60]\n",
        "\n"
      ],
      "metadata": {
        "id": "h9Pd6nyLsap5"
      },
      "execution_count": 8,
      "outputs": []
    },
    {
      "cell_type": "code",
      "source": [
        "\n",
        "y_test = y_train_target[60:]\n",
        "y_train = y_train_target[0:60]"
      ],
      "metadata": {
        "id": "bcXGtQyAwni4"
      },
      "execution_count": 26,
      "outputs": []
    },
    {
      "cell_type": "code",
      "source": [
        "print(len(x_train))\n",
        "# for i in x_train:\n",
        "#   print(len(i))\n",
        "print(type(x_train[0][0]))"
      ],
      "metadata": {
        "colab": {
          "base_uri": "https://localhost:8080/"
        },
        "id": "lvy9LdBAwFdC",
        "outputId": "34068304-2f56-49ad-c23c-d6756c524af7"
      },
      "execution_count": 9,
      "outputs": [
        {
          "output_type": "stream",
          "name": "stdout",
          "text": [
            "60\n",
            "<class 'float'>\n"
          ]
        }
      ]
    },
    {
      "cell_type": "code",
      "source": [
        "print(type(y_train[0][0]))"
      ],
      "metadata": {
        "colab": {
          "base_uri": "https://localhost:8080/"
        },
        "id": "iODiApzXbsjf",
        "outputId": "54b6e469-14cb-4515-f705-dcea3e5bebbe"
      },
      "execution_count": 27,
      "outputs": [
        {
          "output_type": "stream",
          "name": "stdout",
          "text": [
            "<class 'float'>\n"
          ]
        }
      ]
    },
    {
      "cell_type": "code",
      "source": [
        "import torch\n",
        "import numpy as np\n",
        "from torch.utils.data import TensorDataset, DataLoader\n",
        "print(len(x_train))\n",
        "tensor_x =  torch.as_tensor(x_train) # transform to torch tensor\n",
        "tensor_y =  torch.as_tensor(y_train)\n",
        "\n",
        "my_dataset = TensorDataset(tensor_x,tensor_y) # create your datset\n",
        "my_dataloader = DataLoader(my_dataset) # create your dataloader"
      ],
      "metadata": {
        "colab": {
          "base_uri": "https://localhost:8080/"
        },
        "id": "K_SngDK-yINM",
        "outputId": "e8d4c405-cbd3-4500-d32d-21e0e5c102de"
      },
      "execution_count": null,
      "outputs": [
        {
          "output_type": "stream",
          "name": "stdout",
          "text": [
            "60\n"
          ]
        }
      ]
    },
    {
      "cell_type": "code",
      "source": [
        "print(type(tensor_x[0]))\n",
        "print(max1)"
      ],
      "metadata": {
        "colab": {
          "base_uri": "https://localhost:8080/"
        },
        "id": "Uk9EFHYabqu1",
        "outputId": "f990b06a-ea66-4404-ef1e-5a2388461f5a"
      },
      "execution_count": null,
      "outputs": [
        {
          "output_type": "stream",
          "name": "stdout",
          "text": [
            "<class 'torch.Tensor'>\n",
            "150528\n"
          ]
        }
      ]
    },
    {
      "cell_type": "code",
      "source": [
        "from sentence_transformers import losses\n",
        "\n",
        "loss = losses.SoftmaxLoss(\n",
        "    model=model,\n",
        "    sentence_embedding_dimension=max1,\n",
        "    num_labels= 4)  # 0,1,2,3 labels"
      ],
      "metadata": {
        "id": "qIHNRqmDQbj-"
      },
      "execution_count": null,
      "outputs": []
    },
    {
      "cell_type": "code",
      "source": [
        "print(len(my_dataloader))"
      ],
      "metadata": {
        "colab": {
          "base_uri": "https://localhost:8080/"
        },
        "id": "2ZfTzAb4X9wO",
        "outputId": "8e68ee26-6dea-4665-d968-42ddb61ef605"
      },
      "execution_count": null,
      "outputs": [
        {
          "output_type": "stream",
          "name": "stdout",
          "text": [
            "60\n"
          ]
        }
      ]
    },
    {
      "cell_type": "code",
      "source": [
        "epochs = 10\n",
        "warmup_steps = int(len(my_dataloader) * epochs * 0.1)  ### NU MERGE NU STIU DE CE , I M SO SAD\n",
        "model.fit(train_objectives=[(my_dataloader,loss)]) ## da eroare tuplu nu are membrul text , dar eu nu am tuple , idkkk"
      ],
      "metadata": {
        "id": "7u9HrRjtUkMp"
      },
      "execution_count": null,
      "outputs": []
    },
    {
      "cell_type": "code",
      "source": [
        "\n",
        "# trecem pe bert \n",
        "# defining 2 input layers for input_ids and attn_masks\n",
        "from transformers import TFBertModel\n",
        "import tensorflow as tf\n",
        "\n",
        "model = TFBertModel.from_pretrained('bert-base-cased') # bert base model with pretrained weights\n",
        "\n",
        "input_ids = tf.keras.layers.Input(shape=(max1,), name='input_ids')\n",
        "intermediate_layer = tf.keras.layers.Dense(max1, activation='relu', name='intermediate_layer')(input_ids)\n",
        "output_layer = tf.keras.layers.Dense(4, activation='softmax', name='output_layer')(intermediate_layer) # softmax -> calcs probs of classes\n",
        "\n",
        "sentiment_model = tf.keras.Model(inputs=[x_train], outputs=output_layer)\n",
        "optim = tf.keras.optimizers.Adam(learning_rate=1e-5, decay=1e-6)\n",
        "loss_func = tf.keras.losses.CategoricalCrossentropy()\n",
        "acc = tf.keras.metrics.CategoricalAccuracy('accuracy')\n",
        "sentiment_model.compile(optimizer=optim, loss=loss_func, metrics=[acc])\n",
        "hist = sentiment_model.fit(\n",
        "    x_train,\n",
        "    validation_data=y_train,\n",
        "    epochs=2\n",
        ")\n",
        "# sentiment_model.save('drive/MyDrive/Licenta/sentiment_model')"
      ],
      "metadata": {
        "colab": {
          "base_uri": "https://localhost:8080/",
          "height": 359
        },
        "id": "fmyHsA5GqhAm",
        "outputId": "6e3f8f14-6b39-4e9d-b761-4ad7458ff113"
      },
      "execution_count": 1,
      "outputs": [
        {
          "output_type": "stream",
          "name": "stderr",
          "text": [
            "Some layers from the model checkpoint at bert-base-cased were not used when initializing TFBertModel: ['nsp___cls', 'mlm___cls']\n",
            "- This IS expected if you are initializing TFBertModel from the checkpoint of a model trained on another task or with another architecture (e.g. initializing a BertForSequenceClassification model from a BertForPreTraining model).\n",
            "- This IS NOT expected if you are initializing TFBertModel from the checkpoint of a model that you expect to be exactly identical (initializing a BertForSequenceClassification model from a BertForSequenceClassification model).\n",
            "All the layers of TFBertModel were initialized from the model checkpoint at bert-base-cased.\n",
            "If your task is similar to the task the model of the checkpoint was trained on, you can already use TFBertModel for predictions without further training.\n"
          ]
        },
        {
          "output_type": "error",
          "ename": "NameError",
          "evalue": "ignored",
          "traceback": [
            "\u001b[0;31m---------------------------------------------------------------------------\u001b[0m",
            "\u001b[0;31mNameError\u001b[0m                                 Traceback (most recent call last)",
            "\u001b[0;32m<ipython-input-1-ebac610dd66c>\u001b[0m in \u001b[0;36m<module>\u001b[0;34m()\u001b[0m\n\u001b[1;32m      7\u001b[0m \u001b[0mmodel\u001b[0m \u001b[0;34m=\u001b[0m \u001b[0mTFBertModel\u001b[0m\u001b[0;34m.\u001b[0m\u001b[0mfrom_pretrained\u001b[0m\u001b[0;34m(\u001b[0m\u001b[0;34m'bert-base-cased'\u001b[0m\u001b[0;34m)\u001b[0m \u001b[0;31m# bert base model with pretrained weights\u001b[0m\u001b[0;34m\u001b[0m\u001b[0;34m\u001b[0m\u001b[0m\n\u001b[1;32m      8\u001b[0m \u001b[0;34m\u001b[0m\u001b[0m\n\u001b[0;32m----> 9\u001b[0;31m \u001b[0minput_ids\u001b[0m \u001b[0;34m=\u001b[0m \u001b[0mtf\u001b[0m\u001b[0;34m.\u001b[0m\u001b[0mkeras\u001b[0m\u001b[0;34m.\u001b[0m\u001b[0mlayers\u001b[0m\u001b[0;34m.\u001b[0m\u001b[0mInput\u001b[0m\u001b[0;34m(\u001b[0m\u001b[0mshape\u001b[0m\u001b[0;34m=\u001b[0m\u001b[0;34m(\u001b[0m\u001b[0mmax1\u001b[0m\u001b[0;34m,\u001b[0m\u001b[0;34m)\u001b[0m\u001b[0;34m,\u001b[0m \u001b[0mname\u001b[0m\u001b[0;34m=\u001b[0m\u001b[0;34m'input_ids'\u001b[0m\u001b[0;34m)\u001b[0m\u001b[0;34m\u001b[0m\u001b[0;34m\u001b[0m\u001b[0m\n\u001b[0m\u001b[1;32m     10\u001b[0m \u001b[0mintermediate_layer\u001b[0m \u001b[0;34m=\u001b[0m \u001b[0mtf\u001b[0m\u001b[0;34m.\u001b[0m\u001b[0mkeras\u001b[0m\u001b[0;34m.\u001b[0m\u001b[0mlayers\u001b[0m\u001b[0;34m.\u001b[0m\u001b[0mDense\u001b[0m\u001b[0;34m(\u001b[0m\u001b[0mmax1\u001b[0m\u001b[0;34m,\u001b[0m \u001b[0mactivation\u001b[0m\u001b[0;34m=\u001b[0m\u001b[0;34m'relu'\u001b[0m\u001b[0;34m,\u001b[0m \u001b[0mname\u001b[0m\u001b[0;34m=\u001b[0m\u001b[0;34m'intermediate_layer'\u001b[0m\u001b[0;34m)\u001b[0m\u001b[0;34m(\u001b[0m\u001b[0minput_ids\u001b[0m\u001b[0;34m)\u001b[0m\u001b[0;34m\u001b[0m\u001b[0;34m\u001b[0m\u001b[0m\n\u001b[1;32m     11\u001b[0m \u001b[0moutput_layer\u001b[0m \u001b[0;34m=\u001b[0m \u001b[0mtf\u001b[0m\u001b[0;34m.\u001b[0m\u001b[0mkeras\u001b[0m\u001b[0;34m.\u001b[0m\u001b[0mlayers\u001b[0m\u001b[0;34m.\u001b[0m\u001b[0mDense\u001b[0m\u001b[0;34m(\u001b[0m\u001b[0;36m4\u001b[0m\u001b[0;34m,\u001b[0m \u001b[0mactivation\u001b[0m\u001b[0;34m=\u001b[0m\u001b[0;34m'softmax'\u001b[0m\u001b[0;34m,\u001b[0m \u001b[0mname\u001b[0m\u001b[0;34m=\u001b[0m\u001b[0;34m'output_layer'\u001b[0m\u001b[0;34m)\u001b[0m\u001b[0;34m(\u001b[0m\u001b[0mintermediate_layer\u001b[0m\u001b[0;34m)\u001b[0m \u001b[0;31m# softmax -> calcs probs of classes\u001b[0m\u001b[0;34m\u001b[0m\u001b[0;34m\u001b[0m\u001b[0m\n",
            "\u001b[0;31mNameError\u001b[0m: name 'max1' is not defined"
          ]
        }
      ]
    },
    {
      "cell_type": "code",
      "source": [
        "from keras.models import Sequential\n",
        "from keras.layers import Dense\n",
        "model = Sequential()\n",
        "model.add(Dense(1000, input_dim=150528, activation='relu'))\n",
        "model.add(Dense(100, activation='relu'))\n",
        "model.add(Dense(4, activation='softmax'))\n",
        "# compile the keras model\n",
        "model.compile(loss='binary_crossentropy', optimizer='adam', metrics=['accuracy'])\n",
        "# fit the keras model on the dataset\n",
        "model.fit(x_train, y_train, epochs=150, batch_size=10)\n",
        "# evaluate the keras model\n",
        "_, accuracy = model.evaluate(x_train, y_train)\n",
        "print('Accuracy: %.2f' % (accuracy*100))\n",
        "model.save('drive/MyDrive/Licenta/modelSecv') # acuratete 95 % cred ca e ok pe datul de antrenare sa vedem pe cel de testare \n"
      ],
      "metadata": {
        "colab": {
          "base_uri": "https://localhost:8080/"
        },
        "id": "eDulV8qjdZto",
        "outputId": "a6967538-22d7-4c9f-8367-520c2c06e11e"
      },
      "execution_count": 28,
      "outputs": [
        {
          "output_type": "stream",
          "name": "stdout",
          "text": [
            "Epoch 1/150\n",
            "6/6 [==============================] - 6s 680ms/step - loss: 0.5750 - accuracy: 0.5500\n",
            "Epoch 2/150\n",
            "6/6 [==============================] - 4s 677ms/step - loss: 0.3183 - accuracy: 0.6500\n",
            "Epoch 3/150\n",
            "6/6 [==============================] - 4s 664ms/step - loss: 0.1946 - accuracy: 0.8667\n",
            "Epoch 4/150\n",
            "6/6 [==============================] - 4s 674ms/step - loss: 0.1273 - accuracy: 0.9333\n",
            "Epoch 5/150\n",
            "6/6 [==============================] - 4s 667ms/step - loss: 0.0906 - accuracy: 0.9500\n",
            "Epoch 6/150\n",
            "6/6 [==============================] - 4s 672ms/step - loss: 0.0687 - accuracy: 0.9500\n",
            "Epoch 7/150\n",
            "6/6 [==============================] - 4s 671ms/step - loss: 0.0590 - accuracy: 0.9500\n",
            "Epoch 8/150\n",
            "6/6 [==============================] - 4s 674ms/step - loss: 0.0530 - accuracy: 0.9500\n",
            "Epoch 9/150\n",
            "6/6 [==============================] - 4s 659ms/step - loss: 0.0499 - accuracy: 0.9500\n",
            "Epoch 10/150\n",
            "6/6 [==============================] - 4s 661ms/step - loss: 0.0477 - accuracy: 0.9500\n",
            "Epoch 11/150\n",
            "6/6 [==============================] - 4s 663ms/step - loss: 0.0462 - accuracy: 0.9500\n",
            "Epoch 12/150\n",
            "6/6 [==============================] - 4s 659ms/step - loss: 0.0450 - accuracy: 0.9500\n",
            "Epoch 13/150\n",
            "6/6 [==============================] - 4s 671ms/step - loss: 0.0439 - accuracy: 0.9500\n",
            "Epoch 14/150\n",
            "6/6 [==============================] - 5s 789ms/step - loss: 0.0433 - accuracy: 0.9500\n",
            "Epoch 15/150\n",
            "6/6 [==============================] - 4s 664ms/step - loss: 0.0426 - accuracy: 0.9500\n",
            "Epoch 16/150\n",
            "6/6 [==============================] - 4s 672ms/step - loss: 0.0422 - accuracy: 0.9500\n",
            "Epoch 17/150\n",
            "6/6 [==============================] - 4s 672ms/step - loss: 0.0415 - accuracy: 0.9500\n",
            "Epoch 18/150\n",
            "6/6 [==============================] - 4s 678ms/step - loss: 0.0412 - accuracy: 0.9500\n",
            "Epoch 19/150\n",
            "6/6 [==============================] - 4s 670ms/step - loss: 0.0409 - accuracy: 0.9500\n",
            "Epoch 20/150\n",
            "6/6 [==============================] - 4s 670ms/step - loss: 0.0405 - accuracy: 0.9500\n",
            "Epoch 21/150\n",
            "6/6 [==============================] - 4s 664ms/step - loss: 0.0407 - accuracy: 0.9500\n",
            "Epoch 22/150\n",
            "6/6 [==============================] - 4s 674ms/step - loss: 0.0402 - accuracy: 0.9500\n",
            "Epoch 23/150\n",
            "6/6 [==============================] - 4s 664ms/step - loss: 0.0405 - accuracy: 0.9167\n",
            "Epoch 24/150\n",
            "6/6 [==============================] - 4s 659ms/step - loss: 0.0400 - accuracy: 0.9333\n",
            "Epoch 25/150\n",
            "6/6 [==============================] - 4s 680ms/step - loss: 0.0399 - accuracy: 0.9500\n",
            "Epoch 26/150\n",
            "6/6 [==============================] - 4s 675ms/step - loss: 0.0400 - accuracy: 0.9500\n",
            "Epoch 27/150\n",
            "6/6 [==============================] - 4s 675ms/step - loss: 0.0399 - accuracy: 0.9500\n",
            "Epoch 28/150\n",
            "6/6 [==============================] - 4s 673ms/step - loss: 0.0397 - accuracy: 0.9500\n",
            "Epoch 29/150\n",
            "6/6 [==============================] - 4s 668ms/step - loss: 0.0396 - accuracy: 0.9500\n",
            "Epoch 30/150\n",
            "6/6 [==============================] - 4s 668ms/step - loss: 0.0394 - accuracy: 0.9500\n",
            "Epoch 31/150\n",
            "6/6 [==============================] - 4s 664ms/step - loss: 0.0398 - accuracy: 0.9500\n",
            "Epoch 32/150\n",
            "6/6 [==============================] - 4s 668ms/step - loss: 0.0397 - accuracy: 0.9167\n",
            "Epoch 33/150\n",
            "6/6 [==============================] - 4s 666ms/step - loss: 0.0399 - accuracy: 0.9500\n",
            "Epoch 34/150\n",
            "6/6 [==============================] - 4s 661ms/step - loss: 0.0393 - accuracy: 0.9500\n",
            "Epoch 35/150\n",
            "6/6 [==============================] - 4s 668ms/step - loss: 0.0393 - accuracy: 0.9500\n",
            "Epoch 36/150\n",
            "6/6 [==============================] - 4s 666ms/step - loss: 0.0394 - accuracy: 0.9500\n",
            "Epoch 37/150\n",
            "6/6 [==============================] - 4s 660ms/step - loss: 0.0392 - accuracy: 0.9500\n",
            "Epoch 38/150\n",
            "6/6 [==============================] - 4s 665ms/step - loss: 0.0394 - accuracy: 0.9333\n",
            "Epoch 39/150\n",
            "6/6 [==============================] - 4s 666ms/step - loss: 0.0391 - accuracy: 0.9167\n",
            "Epoch 40/150\n",
            "6/6 [==============================] - 4s 668ms/step - loss: 0.0391 - accuracy: 0.9500\n",
            "Epoch 41/150\n",
            "6/6 [==============================] - 4s 668ms/step - loss: 0.0394 - accuracy: 0.9500\n",
            "Epoch 42/150\n",
            "6/6 [==============================] - 4s 674ms/step - loss: 0.0399 - accuracy: 0.9167\n",
            "Epoch 43/150\n",
            "6/6 [==============================] - 4s 671ms/step - loss: 0.0390 - accuracy: 0.9500\n",
            "Epoch 44/150\n",
            "6/6 [==============================] - 4s 681ms/step - loss: 0.0391 - accuracy: 0.9500\n",
            "Epoch 45/150\n",
            "6/6 [==============================] - 4s 679ms/step - loss: 0.0391 - accuracy: 0.9500\n",
            "Epoch 46/150\n",
            "6/6 [==============================] - 4s 683ms/step - loss: 0.0392 - accuracy: 0.9333\n",
            "Epoch 47/150\n",
            "6/6 [==============================] - 4s 670ms/step - loss: 0.0391 - accuracy: 0.9333\n",
            "Epoch 48/150\n",
            "6/6 [==============================] - 4s 679ms/step - loss: 0.0397 - accuracy: 0.9333\n",
            "Epoch 49/150\n",
            "6/6 [==============================] - 4s 676ms/step - loss: 0.0390 - accuracy: 0.9500\n",
            "Epoch 50/150\n",
            "6/6 [==============================] - 4s 672ms/step - loss: 0.0395 - accuracy: 0.9333\n",
            "Epoch 51/150\n",
            "6/6 [==============================] - 4s 676ms/step - loss: 0.0391 - accuracy: 0.9500\n",
            "Epoch 52/150\n",
            "6/6 [==============================] - 4s 669ms/step - loss: 0.0393 - accuracy: 0.9500\n",
            "Epoch 53/150\n",
            "6/6 [==============================] - 4s 672ms/step - loss: 0.0391 - accuracy: 0.9500\n",
            "Epoch 54/150\n",
            "6/6 [==============================] - 4s 680ms/step - loss: 0.0392 - accuracy: 0.9333\n",
            "Epoch 55/150\n",
            "6/6 [==============================] - 4s 671ms/step - loss: 0.0391 - accuracy: 0.9500\n",
            "Epoch 56/150\n",
            "6/6 [==============================] - 4s 679ms/step - loss: 0.0390 - accuracy: 0.9333\n",
            "Epoch 57/150\n",
            "6/6 [==============================] - 4s 678ms/step - loss: 0.0389 - accuracy: 0.9333\n",
            "Epoch 58/150\n",
            "6/6 [==============================] - 4s 670ms/step - loss: 0.0389 - accuracy: 0.9500\n",
            "Epoch 59/150\n",
            "6/6 [==============================] - 4s 673ms/step - loss: 0.0393 - accuracy: 0.9500\n",
            "Epoch 60/150\n",
            "6/6 [==============================] - 4s 671ms/step - loss: 0.0397 - accuracy: 0.9167\n",
            "Epoch 61/150\n",
            "6/6 [==============================] - 4s 672ms/step - loss: 0.0391 - accuracy: 0.9500\n",
            "Epoch 62/150\n",
            "6/6 [==============================] - 4s 673ms/step - loss: 0.0392 - accuracy: 0.9500\n",
            "Epoch 63/150\n",
            "6/6 [==============================] - 4s 685ms/step - loss: 0.0390 - accuracy: 0.9333\n",
            "Epoch 64/150\n",
            "6/6 [==============================] - 4s 675ms/step - loss: 0.0391 - accuracy: 0.9333\n",
            "Epoch 65/150\n",
            "6/6 [==============================] - 4s 676ms/step - loss: 0.0389 - accuracy: 0.9500\n",
            "Epoch 66/150\n",
            "6/6 [==============================] - 4s 677ms/step - loss: 0.0396 - accuracy: 0.9167\n",
            "Epoch 67/150\n",
            "6/6 [==============================] - 4s 674ms/step - loss: 0.0392 - accuracy: 0.9333\n",
            "Epoch 68/150\n",
            "6/6 [==============================] - 4s 670ms/step - loss: 0.0399 - accuracy: 0.9167\n",
            "Epoch 69/150\n",
            "6/6 [==============================] - 4s 670ms/step - loss: 0.0392 - accuracy: 0.9333\n",
            "Epoch 70/150\n",
            "6/6 [==============================] - 4s 668ms/step - loss: 0.0394 - accuracy: 0.9500\n",
            "Epoch 71/150\n",
            "6/6 [==============================] - 4s 671ms/step - loss: 0.0388 - accuracy: 0.9500\n",
            "Epoch 72/150\n",
            "6/6 [==============================] - 4s 670ms/step - loss: 0.0391 - accuracy: 0.9500\n",
            "Epoch 73/150\n",
            "6/6 [==============================] - 4s 665ms/step - loss: 0.0389 - accuracy: 0.9500\n",
            "Epoch 74/150\n",
            "6/6 [==============================] - 4s 666ms/step - loss: 0.0392 - accuracy: 0.9333\n",
            "Epoch 75/150\n",
            "6/6 [==============================] - 4s 661ms/step - loss: 0.0393 - accuracy: 0.9500\n",
            "Epoch 76/150\n",
            "6/6 [==============================] - 4s 675ms/step - loss: 0.0388 - accuracy: 0.9500\n",
            "Epoch 77/150\n",
            "6/6 [==============================] - 4s 677ms/step - loss: 0.0389 - accuracy: 0.9500\n",
            "Epoch 78/150\n",
            "6/6 [==============================] - 4s 671ms/step - loss: 0.0390 - accuracy: 0.9333\n",
            "Epoch 79/150\n",
            "6/6 [==============================] - 4s 670ms/step - loss: 0.0389 - accuracy: 0.9500\n",
            "Epoch 80/150\n",
            "6/6 [==============================] - 4s 680ms/step - loss: 0.0390 - accuracy: 0.9500\n",
            "Epoch 81/150\n",
            "6/6 [==============================] - 4s 673ms/step - loss: 0.0389 - accuracy: 0.9333\n",
            "Epoch 82/150\n",
            "6/6 [==============================] - 4s 672ms/step - loss: 0.0388 - accuracy: 0.9500\n",
            "Epoch 83/150\n",
            "6/6 [==============================] - 4s 673ms/step - loss: 0.0390 - accuracy: 0.9333\n",
            "Epoch 84/150\n",
            "6/6 [==============================] - 4s 670ms/step - loss: 0.0390 - accuracy: 0.9500\n",
            "Epoch 85/150\n",
            "6/6 [==============================] - 4s 667ms/step - loss: 0.0393 - accuracy: 0.9500\n",
            "Epoch 86/150\n",
            "6/6 [==============================] - 4s 670ms/step - loss: 0.0391 - accuracy: 0.9500\n",
            "Epoch 87/150\n",
            "6/6 [==============================] - 4s 669ms/step - loss: 0.0392 - accuracy: 0.9333\n",
            "Epoch 88/150\n",
            "6/6 [==============================] - 4s 674ms/step - loss: 0.0395 - accuracy: 0.9500\n",
            "Epoch 89/150\n",
            "6/6 [==============================] - 4s 661ms/step - loss: 0.0389 - accuracy: 0.9500\n",
            "Epoch 90/150\n",
            "6/6 [==============================] - 4s 675ms/step - loss: 0.0396 - accuracy: 0.9500\n",
            "Epoch 91/150\n",
            "6/6 [==============================] - 4s 678ms/step - loss: 0.0391 - accuracy: 0.9333\n",
            "Epoch 92/150\n",
            "6/6 [==============================] - 4s 668ms/step - loss: 0.0390 - accuracy: 0.9500\n",
            "Epoch 93/150\n",
            "6/6 [==============================] - 4s 673ms/step - loss: 0.0389 - accuracy: 0.9500\n",
            "Epoch 94/150\n",
            "6/6 [==============================] - 4s 675ms/step - loss: 0.0388 - accuracy: 0.9500\n",
            "Epoch 95/150\n",
            "6/6 [==============================] - 4s 677ms/step - loss: 0.0394 - accuracy: 0.9500\n",
            "Epoch 96/150\n",
            "6/6 [==============================] - 4s 674ms/step - loss: 0.0390 - accuracy: 0.9500\n",
            "Epoch 97/150\n",
            "6/6 [==============================] - 4s 685ms/step - loss: 0.0390 - accuracy: 0.9500\n",
            "Epoch 98/150\n",
            "6/6 [==============================] - 4s 673ms/step - loss: 0.0387 - accuracy: 0.9500\n",
            "Epoch 99/150\n",
            "6/6 [==============================] - 4s 670ms/step - loss: 0.0387 - accuracy: 0.9333\n",
            "Epoch 100/150\n",
            "6/6 [==============================] - 4s 677ms/step - loss: 0.0390 - accuracy: 0.9500\n",
            "Epoch 101/150\n",
            "6/6 [==============================] - 4s 688ms/step - loss: 0.0392 - accuracy: 0.9167\n",
            "Epoch 102/150\n",
            "6/6 [==============================] - 4s 672ms/step - loss: 0.0393 - accuracy: 0.9500\n",
            "Epoch 103/150\n",
            "6/6 [==============================] - 4s 675ms/step - loss: 0.0387 - accuracy: 0.9500\n",
            "Epoch 104/150\n",
            "6/6 [==============================] - 4s 681ms/step - loss: 0.0387 - accuracy: 0.9500\n",
            "Epoch 105/150\n",
            "6/6 [==============================] - 4s 673ms/step - loss: 0.0388 - accuracy: 0.9500\n",
            "Epoch 106/150\n",
            "6/6 [==============================] - 4s 676ms/step - loss: 0.0388 - accuracy: 0.9500\n",
            "Epoch 107/150\n",
            "6/6 [==============================] - 4s 674ms/step - loss: 0.0388 - accuracy: 0.9500\n",
            "Epoch 108/150\n",
            "6/6 [==============================] - 4s 685ms/step - loss: 0.0390 - accuracy: 0.9333\n",
            "Epoch 109/150\n",
            "6/6 [==============================] - 4s 677ms/step - loss: 0.0390 - accuracy: 0.9500\n",
            "Epoch 110/150\n",
            "6/6 [==============================] - 4s 682ms/step - loss: 0.0388 - accuracy: 0.9333\n",
            "Epoch 111/150\n",
            "6/6 [==============================] - 4s 669ms/step - loss: 0.0391 - accuracy: 0.9333\n",
            "Epoch 112/150\n",
            "6/6 [==============================] - 4s 672ms/step - loss: 0.0393 - accuracy: 0.9500\n",
            "Epoch 113/150\n",
            "6/6 [==============================] - 4s 682ms/step - loss: 0.0390 - accuracy: 0.9500\n",
            "Epoch 114/150\n",
            "6/6 [==============================] - 4s 682ms/step - loss: 0.0391 - accuracy: 0.9333\n",
            "Epoch 115/150\n",
            "6/6 [==============================] - 4s 672ms/step - loss: 0.0393 - accuracy: 0.9500\n",
            "Epoch 116/150\n",
            "6/6 [==============================] - 4s 676ms/step - loss: 0.0391 - accuracy: 0.9500\n",
            "Epoch 117/150\n",
            "6/6 [==============================] - 4s 679ms/step - loss: 0.0389 - accuracy: 0.9333\n",
            "Epoch 118/150\n",
            "6/6 [==============================] - 4s 679ms/step - loss: 0.0391 - accuracy: 0.9333\n",
            "Epoch 119/150\n",
            "6/6 [==============================] - 4s 679ms/step - loss: 0.0390 - accuracy: 0.9500\n",
            "Epoch 120/150\n",
            "6/6 [==============================] - 4s 681ms/step - loss: 0.0390 - accuracy: 0.9500\n",
            "Epoch 121/150\n",
            "6/6 [==============================] - 4s 671ms/step - loss: 0.0392 - accuracy: 0.9500\n",
            "Epoch 122/150\n",
            "6/6 [==============================] - 4s 674ms/step - loss: 0.0386 - accuracy: 0.9500\n",
            "Epoch 123/150\n",
            "6/6 [==============================] - 4s 671ms/step - loss: 0.0389 - accuracy: 0.9500\n",
            "Epoch 124/150\n",
            "6/6 [==============================] - 4s 671ms/step - loss: 0.0389 - accuracy: 0.9500\n",
            "Epoch 125/150\n",
            "6/6 [==============================] - 4s 668ms/step - loss: 0.0389 - accuracy: 0.9500\n",
            "Epoch 126/150\n",
            "6/6 [==============================] - 4s 667ms/step - loss: 0.0390 - accuracy: 0.9500\n",
            "Epoch 127/150\n",
            "6/6 [==============================] - 4s 669ms/step - loss: 0.0389 - accuracy: 0.9500\n",
            "Epoch 128/150\n",
            "6/6 [==============================] - 4s 671ms/step - loss: 0.0390 - accuracy: 0.9500\n",
            "Epoch 129/150\n",
            "6/6 [==============================] - 4s 661ms/step - loss: 0.0387 - accuracy: 0.9500\n",
            "Epoch 130/150\n",
            "6/6 [==============================] - 4s 661ms/step - loss: 0.0395 - accuracy: 0.9167\n",
            "Epoch 131/150\n",
            "6/6 [==============================] - 4s 661ms/step - loss: 0.0390 - accuracy: 0.9500\n",
            "Epoch 132/150\n",
            "6/6 [==============================] - 4s 669ms/step - loss: 0.0387 - accuracy: 0.9500\n",
            "Epoch 133/150\n",
            "6/6 [==============================] - 4s 674ms/step - loss: 0.0392 - accuracy: 0.9333\n",
            "Epoch 134/150\n",
            "6/6 [==============================] - 4s 668ms/step - loss: 0.0389 - accuracy: 0.9333\n",
            "Epoch 135/150\n",
            "6/6 [==============================] - 4s 662ms/step - loss: 0.0389 - accuracy: 0.9500\n",
            "Epoch 136/150\n",
            "6/6 [==============================] - 4s 670ms/step - loss: 0.0391 - accuracy: 0.9500\n",
            "Epoch 137/150\n",
            "6/6 [==============================] - 5s 828ms/step - loss: 0.0387 - accuracy: 0.9500\n",
            "Epoch 138/150\n",
            "6/6 [==============================] - 4s 663ms/step - loss: 0.0397 - accuracy: 0.9500\n",
            "Epoch 139/150\n",
            "6/6 [==============================] - 4s 666ms/step - loss: 0.0390 - accuracy: 0.9500\n",
            "Epoch 140/150\n",
            "6/6 [==============================] - 4s 671ms/step - loss: 0.0388 - accuracy: 0.9500\n",
            "Epoch 141/150\n",
            "6/6 [==============================] - 4s 663ms/step - loss: 0.0389 - accuracy: 0.9500\n",
            "Epoch 142/150\n",
            "6/6 [==============================] - 4s 666ms/step - loss: 0.0391 - accuracy: 0.9500\n",
            "Epoch 143/150\n",
            "6/6 [==============================] - 4s 664ms/step - loss: 0.0398 - accuracy: 0.9167\n",
            "Epoch 144/150\n",
            "6/6 [==============================] - 4s 664ms/step - loss: 0.0388 - accuracy: 0.9333\n",
            "Epoch 145/150\n",
            "6/6 [==============================] - 4s 675ms/step - loss: 0.0395 - accuracy: 0.9500\n",
            "Epoch 146/150\n",
            "6/6 [==============================] - 4s 671ms/step - loss: 0.0392 - accuracy: 0.9333\n",
            "Epoch 147/150\n",
            "6/6 [==============================] - 4s 670ms/step - loss: 0.0386 - accuracy: 0.9500\n",
            "Epoch 148/150\n",
            "6/6 [==============================] - 4s 672ms/step - loss: 0.0387 - accuracy: 0.9500\n",
            "Epoch 149/150\n",
            "6/6 [==============================] - 4s 666ms/step - loss: 0.0390 - accuracy: 0.9500\n",
            "Epoch 150/150\n",
            "6/6 [==============================] - 4s 674ms/step - loss: 0.0395 - accuracy: 0.9167\n",
            "2/2 [==============================] - 1s 249ms/step - loss: 0.0386 - accuracy: 0.9500\n",
            "Accuracy: 95.00\n",
            "INFO:tensorflow:Assets written to: drive/MyDrive/Licenta/modelSecv/assets\n"
          ]
        }
      ]
    },
    {
      "cell_type": "code",
      "source": [
        "results = model.evaluate(x_test, y_test, batch_size=128)\n",
        "print(\"test loss, test acc:\", results) # doar 40 la suta acuratetea\n"
      ],
      "metadata": {
        "id": "YiHshc-WtQzB",
        "colab": {
          "base_uri": "https://localhost:8080/"
        },
        "outputId": "8a3a173c-b501-4348-c577-7da2f26a8897"
      },
      "execution_count": 29,
      "outputs": [
        {
          "output_type": "stream",
          "name": "stdout",
          "text": [
            "1/1 [==============================] - 0s 300ms/step - loss: 4.2877 - accuracy: 0.4000\n",
            "test loss, test acc: [4.287680149078369, 0.4000000059604645]\n"
          ]
        }
      ]
    },
    {
      "cell_type": "code",
      "source": [
        "results2 = model.evaluate(x_test, y_test)\n",
        "print(\"test loss, test acc:\", results2)"
      ],
      "metadata": {
        "colab": {
          "base_uri": "https://localhost:8080/"
        },
        "id": "INqBwiKV6G3p",
        "outputId": "a5b2c8ef-1b9a-4d15-d81a-d52cbf725200"
      },
      "execution_count": 30,
      "outputs": [
        {
          "output_type": "stream",
          "name": "stdout",
          "text": [
            "1/1 [==============================] - 0s 277ms/step - loss: 4.2877 - accuracy: 0.4000\n",
            "test loss, test acc: [4.287680149078369, 0.4000000059604645]\n"
          ]
        }
      ]
    }
  ]
}