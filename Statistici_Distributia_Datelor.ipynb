{
  "nbformat": 4,
  "nbformat_minor": 0,
  "metadata": {
    "colab": {
      "name": "Statistici-Distributia Datelor.ipynb",
      "provenance": [],
      "mount_file_id": "1Wu8wusoUQvinVHd7rhiK52KcmIY6lntv",
      "authorship_tag": "ABX9TyOGtSPcxkTqJinVgqM9QGV8",
      "include_colab_link": true
    },
    "kernelspec": {
      "name": "python3",
      "display_name": "Python 3"
    },
    "language_info": {
      "name": "python"
    }
  },
  "cells": [
    {
      "cell_type": "markdown",
      "metadata": {
        "id": "view-in-github",
        "colab_type": "text"
      },
      "source": [
        "<a href=\"https://colab.research.google.com/github/Madalina0303/Licenta-Depresie/blob/main/Statistici_Distributia_Datelor.ipynb\" target=\"_parent\"><img src=\"https://colab.research.google.com/assets/colab-badge.svg\" alt=\"Open In Colab\"/></a>"
      ]
    },
    {
      "cell_type": "code",
      "source": [
        "import json"
      ],
      "metadata": {
        "id": "cOZSq-f-ri-2"
      },
      "execution_count": 1,
      "outputs": []
    },
    {
      "cell_type": "code",
      "execution_count": 2,
      "metadata": {
        "id": "d9wNm8OHraCa"
      },
      "outputs": [],
      "source": [
        "with open('drive/MyDrive/Licenta/reponses.json') as json_file:\n",
        "    responses = json.load(json_file)"
      ]
    },
    {
      "cell_type": "code",
      "source": [
        "def statistics(category):\n",
        "  datas =responses[category]\n",
        "  all_avg1 = []\n",
        "  all_avg2 = []\n",
        "  nr_0 = datas.count(0)\n",
        "  nr_1 = datas.count(1)\n",
        "  nr_2 = datas.count(2)\n",
        "  nr_3 = datas.count(3)\n",
        "  all_avg1 = [nr_0,nr_1,nr_2,nr_3]\n",
        "  all_avg2 = [nr_0/80, nr_1/80,nr_2/80,nr_3/80]\n",
        "  if category == \"Changes in Appetite\" or category == \"Changes in Sleeping Pattern\":\n",
        "    nr_4 = datas.count(4)\n",
        "    nr_5 = datas.count(5)\n",
        "    nr_6 = datas.count(6)\n",
        "    nr_7 = datas.count(7)\n",
        "    all_avg1.append(nr_4)\n",
        "    all_avg2.append(nr_4/80)\n",
        "    all_avg1.append(nr_5)\n",
        "    all_avg2.append(nr_5/80)\n",
        "    all_avg1.append(nr_6)\n",
        "    all_avg2.append(nr_6/80)\n",
        "    all_avg1.append(nr_7)\n",
        "    all_avg2.append(nr_7/80)\n",
        "  return all_avg1, all_avg2"
      ],
      "metadata": {
        "id": "ndJlUxd3sBVY"
      },
      "execution_count": 6,
      "outputs": []
    },
    {
      "cell_type": "code",
      "source": [
        "for key in responses:\n",
        "  l1,l2 = statistics(key)\n",
        "  print(key,l1,l2)\n",
        "  # print(l1)\n",
        "  # print(l2)"
      ],
      "metadata": {
        "colab": {
          "base_uri": "https://localhost:8080/"
        },
        "id": "bBYt47Ytvp52",
        "outputId": "446adf5b-2ffd-46b6-eff8-ddba713b63b9"
      },
      "execution_count": 7,
      "outputs": [
        {
          "output_type": "stream",
          "name": "stdout",
          "text": [
            "Sadness [15, 44, 12, 9] [0.1875, 0.55, 0.15, 0.1125]\n",
            "Pessimism [17, 30, 19, 14] [0.2125, 0.375, 0.2375, 0.175]\n",
            "Past Failure [11, 30, 22, 17] [0.1375, 0.375, 0.275, 0.2125]\n",
            "Loss of Pleasure [10, 43, 18, 9] [0.125, 0.5375, 0.225, 0.1125]\n",
            "Guilty Feelings [21, 32, 12, 15] [0.2625, 0.4, 0.15, 0.1875]\n",
            "Punishment Feelings [34, 17, 15, 14] [0.425, 0.2125, 0.1875, 0.175]\n",
            "Self-Dislike [17, 23, 18, 22] [0.2125, 0.2875, 0.225, 0.275]\n",
            "Self-Criticalness [15, 19, 33, 13] [0.1875, 0.2375, 0.4125, 0.1625]\n",
            "Suicidal Thoughts or Wishes [28, 38, 10, 4] [0.35, 0.475, 0.125, 0.05]\n",
            "Crying [27, 18, 8, 27] [0.3375, 0.225, 0.1, 0.3375]\n",
            "Agitation [18, 39, 18, 5] [0.225, 0.4875, 0.225, 0.0625]\n",
            "Loss of Interest [10, 34, 20, 16] [0.125, 0.425, 0.25, 0.2]\n",
            "Indecisiveness [21, 20, 19, 20] [0.2625, 0.25, 0.2375, 0.25]\n",
            "Worthlessness [23, 20, 17, 20] [0.2875, 0.25, 0.2125, 0.25]\n",
            "Loss of Energy [11, 26, 27, 16] [0.1375, 0.325, 0.3375, 0.2]\n",
            "Changes in Sleeping Pattern [15, 12, 17, 8, 15, 3, 10, 0] [0.1875, 0.15, 0.2125, 0.1, 0.1875, 0.0375, 0.125, 0.0]\n",
            "Irritability [25, 32, 16, 7] [0.3125, 0.4, 0.2, 0.0875]\n",
            "Changes in Appetite [18, 22, 16, 11, 3, 3, 7, 0] [0.225, 0.275, 0.2, 0.1375, 0.0375, 0.0375, 0.0875, 0.0]\n",
            "Concentration Difficulty [10, 21, 40, 9] [0.125, 0.2625, 0.5, 0.1125]\n",
            "Tiredness or Fatigue [10, 33, 16, 21] [0.125, 0.4125, 0.2, 0.2625]\n",
            "Loss of Interest in Sex [31, 19, 20, 10] [0.3875, 0.2375, 0.25, 0.125]\n"
          ]
        }
      ]
    }
  ]
}