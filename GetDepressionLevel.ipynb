{
  "nbformat": 4,
  "nbformat_minor": 0,
  "metadata": {
    "colab": {
      "name": "GetDepressionLevel.ipynb",
      "provenance": [],
      "collapsed_sections": [],
      "mount_file_id": "1FbhK5xG-N9UALaMyjAFUfBs68IWmr5k0",
      "authorship_tag": "ABX9TyN0UiviNNqrpt6YFS6JWfoM",
      "include_colab_link": true
    },
    "kernelspec": {
      "name": "python3",
      "display_name": "Python 3"
    },
    "language_info": {
      "name": "python"
    }
  },
  "cells": [
    {
      "cell_type": "markdown",
      "metadata": {
        "id": "view-in-github",
        "colab_type": "text"
      },
      "source": [
        "<a href=\"https://colab.research.google.com/github/Madalina0303/Licenta-Depresie/blob/main/GetDepressionLevel.ipynb\" target=\"_parent\"><img src=\"https://colab.research.google.com/assets/colab-badge.svg\" alt=\"Open In Colab\"/></a>"
      ]
    },
    {
      "cell_type": "code",
      "source": [
        "import re\n",
        "def get_categories(file):\n",
        "  with open(file) as f:\n",
        "    data = f.read()\n",
        "    questions = re.findall(\"[0-9]+\\.\\s*[a-zA-Z\\s]+\\s*\\n\", data)\n",
        "  \n",
        "  for i, elem in enumerate(questions):\n",
        "    questions[i] = elem.split(\"\\n\")[0]\n",
        "    questions[i] = re.split(\"[0-9]+[\\.\\s]+\",questions[i])[1]\n",
        "    \n",
        "  return questions\n",
        "categories_list = get_categories(\"drive/MyDrive/chestionar.txt\")"
      ],
      "metadata": {
        "id": "TYlkAZww0XGu"
      },
      "execution_count": 1,
      "outputs": []
    },
    {
      "cell_type": "code",
      "execution_count": 55,
      "metadata": {
        "id": "kg8jHd1MzKvA"
      },
      "outputs": [],
      "source": [
        "response  = \"drive/MyDrive/Licenta/response.txt\"\n",
        "responses = dict()\n",
        "for j in categories_list:\n",
        "  responses[j]=[]\n",
        "\n",
        "score = dict()\n",
        "# level = dict()\n",
        "usr = 1\n",
        "maxii = 0\n",
        "dmin = 0\n",
        "du = 0\n",
        "dm = 0\n",
        "ds = 0\n",
        "with open(response) as rsp:\n",
        "   data = rsp.readlines()\n",
        "   for line in data:\n",
        "     res = line.split(\" \")[1:]\n",
        "     sum = 0 \n",
        "     for j in res:\n",
        "       if len(j)>=2:\n",
        "         sum += int(j[0])\n",
        "       else:\n",
        "        sum+= int(j)\n",
        "     score[str(usr)] = sum\n",
        "     if sum >= 0 and sum<= 9:\n",
        "       dmin+=1\n",
        "     elif sum>=10 and sum<=18:\n",
        "       du += 1\n",
        "     elif sum>=19 and sum <=29:\n",
        "       dm += 1\n",
        "     else:\n",
        "       ds += 1\n",
        "     if sum>maxii:\n",
        "       maxii = sum\n",
        "     usr += 1\n",
        "\n"
      ]
    },
    {
      "cell_type": "code",
      "source": [
        "print(score)\n",
        "print(maxii)"
      ],
      "metadata": {
        "colab": {
          "base_uri": "https://localhost:8080/"
        },
        "id": "73Jgtwcd43L3",
        "outputId": "7af598c4-c263-4708-9acb-c4b4ca4833dc"
      },
      "execution_count": 3,
      "outputs": [
        {
          "output_type": "stream",
          "name": "stdout",
          "text": [
            "{'1': 23, '2': 22, '3': 28, '4': 17, '5': 21, '6': 7, '7': 22, '8': 21, '9': 33, '10': 28, '11': 31, '12': 15, '13': 28, '14': 16, '15': 43, '16': 24, '17': 9, '18': 16, '19': 27, '20': 48, '21': 39, '22': 41, '23': 22, '24': 35, '25': 8, '26': 51, '27': 16, '28': 21, '29': 11, '30': 17, '31': 56, '32': 48, '33': 41, '34': 45, '35': 38, '36': 25, '37': 11, '38': 9, '39': 25, '40': 40, '41': 40, '42': 50, '43': 24, '44': 52, '45': 28, '46': 32, '47': 33, '48': 23, '49': 20, '50': 38, '51': 10, '52': 24, '53': 39, '54': 22, '55': 46, '56': 49, '57': 26, '58': 31, '59': 47, '60': 28, '61': 5, '62': 18, '63': 36, '64': 45, '65': 43, '66': 15, '67': 40, '68': 4, '69': 19, '70': 37, '71': 38, '72': 23, '73': 13, '74': 27, '75': 32, '76': 27, '77': 18, '78': 36, '79': 34, '80': 22}\n",
            "56\n"
          ]
        }
      ]
    },
    {
      "cell_type": "code",
      "source": [
        "# import numpy as np\n",
        "# import seaborn as sns\n",
        "# import matplotlib.pyplot as plt\n",
        "# sns.set_theme(style=\"white\", context=\"talk\")\n",
        "# rs = np.random.RandomState(8)\n",
        "\n",
        "# # Set up the matplotlib figure\n",
        "# f, (ax1, ax2, ax3) = plt.subplots(3, 1, figsize=(7, 5), sharex=True)\n",
        "\n",
        "# # Generate some sequential data\n",
        "# x =[ i for i in range(1,81)]\n",
        "# print(x)\n",
        "# y1 = []\n",
        "# for key in score:\n",
        "#   y1.append(score[key])\n",
        "# print(y1)\n",
        "# sns.barplot(x=x, y=y1, palette=\"rocket\", ax=ax1)\n",
        "# ax1.axhline(0, color=\"k\", clip_on=False)\n",
        "# ax1.set_ylabel(\"Sequential\")\n",
        "# sns.despine(bottom=True)\n",
        "# plt.setp(f.axes, yticks=[])\n",
        "# plt.tight_layout(h_pad=2)"
      ],
      "metadata": {
        "id": "wD0boKGD9c0V"
      },
      "execution_count": null,
      "outputs": []
    },
    {
      "cell_type": "code",
      "source": [
        "def graph_barplot_obj(x_set_obj, y_set_obj, y_set_name, graph_name):\n",
        "    sns.set_style(\"whitegrid\")\n",
        "    sns.set(rc = {'figure.figsize':(9,8)})\n",
        "    # palette = sns.color_palette(\"Blues\", as_cmap=True)\n",
        "    # sns.palplot(palette)\n",
        "    graph_display = sns.barplot(x=x_set_obj, y=y_set_obj, color = '#00978d', dodge=False)\n",
        "    graph_display.set_xlabel(\"Utilizatori\", fontsize=13)\n",
        "    graph_display.set_ylabel(y_set_name, fontsize=13)\n",
        "    # graph_display.set_title(graph_name, fontsize=27)\n",
        "\n",
        "    graph_display.set_xticklabels([])\n",
        "\n",
        "    plt.show()"
      ],
      "metadata": {
        "id": "lFls8hMCAJRG"
      },
      "execution_count": 49,
      "outputs": []
    },
    {
      "cell_type": "code",
      "source": [
        "list_x = [\"u\"+str(i) for i in range(1,61)]\n",
        "\n",
        "print(list_x)\n",
        "y1 = []\n",
        "for key in score:\n",
        "  y1.append(score[key])\n",
        "print(len(y1[:60]))\n",
        "graph_barplot_obj(list_x, y1[:60], \"Scor depresie\", \"Scorul depresiei per utilizator\")"
      ],
      "metadata": {
        "colab": {
          "base_uri": "https://localhost:8080/",
          "height": 547
        },
        "id": "r3QrIU3zAie6",
        "outputId": "02bc2641-903d-4305-86d6-64a64f5e67a4"
      },
      "execution_count": 50,
      "outputs": [
        {
          "output_type": "stream",
          "name": "stdout",
          "text": [
            "['u1', 'u2', 'u3', 'u4', 'u5', 'u6', 'u7', 'u8', 'u9', 'u10', 'u11', 'u12', 'u13', 'u14', 'u15', 'u16', 'u17', 'u18', 'u19', 'u20', 'u21', 'u22', 'u23', 'u24', 'u25', 'u26', 'u27', 'u28', 'u29', 'u30', 'u31', 'u32', 'u33', 'u34', 'u35', 'u36', 'u37', 'u38', 'u39', 'u40', 'u41', 'u42', 'u43', 'u44', 'u45', 'u46', 'u47', 'u48', 'u49', 'u50', 'u51', 'u52', 'u53', 'u54', 'u55', 'u56', 'u57', 'u58', 'u59', 'u60']\n",
            "60\n"
          ]
        },
        {
          "output_type": "display_data",
          "data": {
            "text/plain": [
              "<Figure size 648x576 with 1 Axes>"
            ],
            "image/png": "[encoded data removed]"
          },
          "metadata": {}
        }
      ]
    },
    {
      "cell_type": "code",
      "source": [
        "print(dmin)\n",
        "print(du)\n",
        "print(dm)\n",
        "print(ds)"
      ],
      "metadata": {
        "colab": {
          "base_uri": "https://localhost:8080/"
        },
        "id": "ZO_P00-rSu-h",
        "outputId": "7322490a-b8c9-4794-be20-e91d7eae7cc8"
      },
      "execution_count": 57,
      "outputs": [
        {
          "output_type": "stream",
          "name": "stdout",
          "text": [
            "6\n",
            "13\n",
            "27\n",
            "34\n"
          ]
        }
      ]
    },
    {
      "cell_type": "code",
      "source": [
        "import matplotlib.pyplot as plt\n",
        "import seaborn as sns\n",
        "\n",
        "#define data\n",
        "data = [dmin, du, dm, ds]\n",
        "labels = ['Depresie minimală', 'Depresie ușoară', 'Depresie moderată', 'Depresie severă']\n",
        "\n",
        "#define Seaborn color palette to use\n",
        "colors = sns.color_palette('bright')[0:4]\n",
        "\n",
        "#create pie chart\n",
        "plt.pie(data, labels = labels, colors = colors, autopct='%.0f%%')\n",
        "plt.show()"
      ],
      "metadata": {
        "colab": {
          "base_uri": "https://localhost:8080/",
          "height": 466
        },
        "id": "geARHCL5PML7",
        "outputId": "2f2b7b2e-5c99-4979-b5ab-4cf277c376aa"
      },
      "execution_count": 56,
      "outputs": [
        {
          "output_type": "display_data",
          "data": {
            "text/plain": [
              "<Figure size 648x576 with 1 Axes>"
            ],
            "image/png": "[encoded data removed]"
          },
          "metadata": {}
        }
      ]
    }
  ]
}